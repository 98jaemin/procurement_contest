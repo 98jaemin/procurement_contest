{
 "cells": [
  {
   "cell_type": "code",
   "execution_count": 1,
   "id": "ae6d8322",
   "metadata": {},
   "outputs": [],
   "source": [
    "import numpy as np\n",
    "import pandas as pd"
   ]
  },
  {
   "cell_type": "code",
   "execution_count": 97,
   "id": "2a6062f5",
   "metadata": {},
   "outputs": [],
   "source": [
    "# 변수명, 측정값, 최솟값, 최댓값, 망대 여부, 퍼지 여부\n",
    "eval_data = [['공급의 신속성', 3, 0, 5, True, False],\n",
    "             ['검사불합격', 3.4, 0, 6, False, False],\n",
    "             ['품질 만족도', (4.5, 6), (0, 1), (6, 7), True, True],\n",
    "             ['불편함', (1.5, 2), (0, 1), (9, 10), False, True]\n",
    "            ]"
   ]
  },
  {
   "cell_type": "code",
   "execution_count": 98,
   "id": "f012f59a",
   "metadata": {},
   "outputs": [
    {
     "data": {
      "text/html": [
       "<div>\n",
       "<style scoped>\n",
       "    .dataframe tbody tr th:only-of-type {\n",
       "        vertical-align: middle;\n",
       "    }\n",
       "\n",
       "    .dataframe tbody tr th {\n",
       "        vertical-align: top;\n",
       "    }\n",
       "\n",
       "    .dataframe thead th {\n",
       "        text-align: right;\n",
       "    }\n",
       "</style>\n",
       "<table border=\"1\" class=\"dataframe\">\n",
       "  <thead>\n",
       "    <tr style=\"text-align: right;\">\n",
       "      <th></th>\n",
       "      <th>항목</th>\n",
       "      <th>측정값</th>\n",
       "      <th>최솟값</th>\n",
       "      <th>최댓값</th>\n",
       "      <th>망대 여부</th>\n",
       "      <th>Fuzzy 여부</th>\n",
       "    </tr>\n",
       "  </thead>\n",
       "  <tbody>\n",
       "    <tr>\n",
       "      <th>0</th>\n",
       "      <td>공급의 신속성</td>\n",
       "      <td>3</td>\n",
       "      <td>0</td>\n",
       "      <td>5</td>\n",
       "      <td>True</td>\n",
       "      <td>False</td>\n",
       "    </tr>\n",
       "    <tr>\n",
       "      <th>1</th>\n",
       "      <td>검사불합격</td>\n",
       "      <td>3.4</td>\n",
       "      <td>0</td>\n",
       "      <td>6</td>\n",
       "      <td>False</td>\n",
       "      <td>False</td>\n",
       "    </tr>\n",
       "    <tr>\n",
       "      <th>2</th>\n",
       "      <td>품질 만족도</td>\n",
       "      <td>(4.5, 6)</td>\n",
       "      <td>(0, 1)</td>\n",
       "      <td>(6, 7)</td>\n",
       "      <td>True</td>\n",
       "      <td>True</td>\n",
       "    </tr>\n",
       "    <tr>\n",
       "      <th>3</th>\n",
       "      <td>불편함</td>\n",
       "      <td>(1.5, 2)</td>\n",
       "      <td>(0, 1)</td>\n",
       "      <td>(9, 10)</td>\n",
       "      <td>False</td>\n",
       "      <td>True</td>\n",
       "    </tr>\n",
       "  </tbody>\n",
       "</table>\n",
       "</div>"
      ],
      "text/plain": [
       "        항목       측정값     최솟값      최댓값  망대 여부  Fuzzy 여부\n",
       "0  공급의 신속성         3       0        5   True     False\n",
       "1    검사불합격       3.4       0        6  False     False\n",
       "2   품질 만족도  (4.5, 6)  (0, 1)   (6, 7)   True      True\n",
       "3      불편함  (1.5, 2)  (0, 1)  (9, 10)  False      True"
      ]
     },
     "execution_count": 98,
     "metadata": {},
     "output_type": "execute_result"
    }
   ],
   "source": [
    "# 입력 데이터\n",
    "pd.DataFrame(eval_data, columns=['항목', '측정값', '최솟값', '최댓값', '망대 여부', 'Fuzzy 여부'])"
   ]
  },
  {
   "cell_type": "code",
   "execution_count": 99,
   "id": "ed683e53",
   "metadata": {},
   "outputs": [],
   "source": [
    "# 각 항목의 fuzzy 만족도 지수를 계산하는 함수\n",
    "def get_fuzzy_score(data):\n",
    "    y_i = data[1]                             # 측정값\n",
    "    y_min = data[2]; y_max = data[3]          # 최솟값; 최댓값\n",
    "    isMangdae = data[4]; isFuzzy = data[5]    # 망대 여부; Fuzzy 여부\n",
    "    \n",
    "    if isMangdae:    # 망대 특성인 경우\n",
    "        if isFuzzy:  # Fuzzy 데이터인 경우\n",
    "            # elementwise 연산를 위해 nunmpy array로 변환\n",
    "            y_min = np.array(y_min)\n",
    "            y_max = np.array(y_max)\n",
    "            y_i = np.array(y_i)\n",
    "            \n",
    "            ################# interval 간의 크기 비교는 어떻게???? (일단 중점끼리 비교) \n",
    "            if np.mean(y_i) < np.mean(y_min):\n",
    "                score = (0, 0)\n",
    "            elif np.mean(y_i) > np.mean(y_max):\n",
    "                score = (1, 1)\n",
    "            else:\n",
    "                bunja = y_i - y_min\n",
    "                bunmo = y_max - y_min\n",
    "                cases = [a/b for a in bunja for b in bunmo]       # 분자/분모의 구간 연산\n",
    "                score = (min(cases), max(cases))\n",
    "                \n",
    "            return score\n",
    "        \n",
    "        else:       # Crisp 데이터인 경우\n",
    "            if y_i <= y_min:\n",
    "                score = 0\n",
    "            elif y_i >= y_max:\n",
    "                score = 1\n",
    "            else:\n",
    "                score = (y_i - y_min) / (y_max - y_min)\n",
    "            \n",
    "            return (score, score)\n",
    "     \n",
    "    \n",
    "    else:    # 망소 특성인 경우 -> 1에서 뺀 값을 반환\n",
    "        if isFuzzy:  # Fuzzy 데이터인 경우\n",
    "            # elementwise 연상를 위해 nunmpy array로 변환\n",
    "            y_min = np.array(y_min)\n",
    "            y_max = np.array(y_max)\n",
    "            y_i = np.array(y_i)\n",
    "            \n",
    "            ################# interval 간의 크기 비교는 어떻게???? (일단 중점끼리 비교) \n",
    "            if np.mean(y_i) < np.mean(y_min):\n",
    "                score = (1, 1)\n",
    "            elif np.mean(y_i) > np.mean(y_max):\n",
    "                score = (0, 0)\n",
    "            else:\n",
    "                bunja = y_i - y_min\n",
    "                bunmo = y_max - y_min\n",
    "                cases = [a/b for a in bunja for b in bunmo]        # 분자/분모의 구간 연산\n",
    "                score = (1-max(cases), 1-min(cases))\n",
    "            \n",
    "            return score\n",
    "        \n",
    "        else:       # Crisp 데이터인 경우\n",
    "            if y_i <= y_min:\n",
    "                score = 0\n",
    "            elif y_i >= y_max:\n",
    "                score = 1\n",
    "            else:\n",
    "                score = (y_i - y_min) / (y_max - y_min)\n",
    "            \n",
    "            return (1-score, 1-score)"
   ]
  },
  {
   "cell_type": "code",
   "execution_count": 119,
   "id": "bbe725eb",
   "metadata": {},
   "outputs": [
    {
     "name": "stdout",
     "output_type": "stream",
     "text": [
      "항목 : 공급의 신속성,\t 만족도 지수 : (0.600, 0.600)\n",
      "항목 : 검사불합격,\t 만족도 지수 : (0.433, 0.433)\n",
      "항목 : 품질 만족도,\t 만족도 지수 : (0.750, 0.833)\n",
      "항목 : 불편함,\t 만족도 지수 : (0.833, 0.889)\n"
     ]
    }
   ],
   "source": [
    "# 하나씩 확인\n",
    "for data in eval_data:\n",
    "    score = get_fuzzy_score(data)\n",
    "    print(f'항목 : {data[0]},\\t 만족도 지수 : ({score[0]:.3f}, {score[1]:.3f})')"
   ]
  },
  {
   "cell_type": "code",
   "execution_count": 91,
   "id": "9de0198f",
   "metadata": {},
   "outputs": [],
   "source": [
    "# 종합 만족도 지수를 계산하는 함수\n",
    "def get_total(eval_data):\n",
    "    scores = [get_fuzzy_score(data) for data in eval_data]\n",
    "    min_ = np.mean([m[0] for m in scores])\n",
    "    max_ = np.mean([m[1] for m in scores])\n",
    "    return (min_, max_)"
   ]
  },
  {
   "cell_type": "code",
   "execution_count": 109,
   "id": "9e47de31",
   "metadata": {},
   "outputs": [
    {
     "data": {
      "text/plain": [
       "(0.6541666666666667, 0.6888888888888889)"
      ]
     },
     "execution_count": 109,
     "metadata": {},
     "output_type": "execute_result"
    }
   ],
   "source": [
    "get_total(eval_data)"
   ]
  }
 ],
 "metadata": {
  "kernelspec": {
   "display_name": "Python 3",
   "language": "python",
   "name": "python3"
  },
  "language_info": {
   "codemirror_mode": {
    "name": "ipython",
    "version": 3
   },
   "file_extension": ".py",
   "mimetype": "text/x-python",
   "name": "python",
   "nbconvert_exporter": "python",
   "pygments_lexer": "ipython3",
   "version": "3.8.8"
  },
  "toc": {
   "base_numbering": 1,
   "nav_menu": {},
   "number_sections": false,
   "sideBar": true,
   "skip_h1_title": false,
   "title_cell": "Table of Contents",
   "title_sidebar": "Contents",
   "toc_cell": false,
   "toc_position": {},
   "toc_section_display": true,
   "toc_window_display": false
  }
 },
 "nbformat": 4,
 "nbformat_minor": 5
}
